{
  "nbformat": 4,
  "nbformat_minor": 0,
  "metadata": {
    "colab": {
      "provenance": [],
      "mount_file_id": "1R0lBqG0RLudXOonxAzn81eX4AHmznsRD",
      "authorship_tag": "ABX9TyO1gFm0cnCWdmhhcpkOqCjL",
      "include_colab_link": true
    },
    "kernelspec": {
      "name": "python3",
      "display_name": "Python 3"
    },
    "language_info": {
      "name": "python"
    }
  },
  "cells": [
    {
      "cell_type": "markdown",
      "metadata": {
        "id": "view-in-github",
        "colab_type": "text"
      },
      "source": [
        "<a href=\"https://colab.research.google.com/github/AdenijiMujeeb/AdenijiMujeeb/blob/main/functions_M32082.ipynb\" target=\"_parent\"><img src=\"https://colab.research.google.com/assets/colab-badge.svg\" alt=\"Open In Colab\"/></a>"
      ]
    },
    {
      "cell_type": "code",
      "source": [
        "!pip install rpy2"
      ],
      "metadata": {
        "colab": {
          "base_uri": "https://localhost:8080/"
        },
        "id": "d6RWNdnuJgct",
        "outputId": "69a94fad-123a-4623-e5db-1ec421e13357"
      },
      "execution_count": 71,
      "outputs": [
        {
          "output_type": "stream",
          "name": "stdout",
          "text": [
            "Requirement already satisfied: rpy2 in /usr/local/lib/python3.10/dist-packages (3.4.2)\n",
            "Requirement already satisfied: cffi>=1.10.0 in /usr/local/lib/python3.10/dist-packages (from rpy2) (1.16.0)\n",
            "Requirement already satisfied: jinja2 in /usr/local/lib/python3.10/dist-packages (from rpy2) (3.1.2)\n",
            "Requirement already satisfied: pytz in /usr/local/lib/python3.10/dist-packages (from rpy2) (2023.3.post1)\n",
            "Requirement already satisfied: tzlocal in /usr/local/lib/python3.10/dist-packages (from rpy2) (5.2)\n",
            "Requirement already satisfied: pycparser in /usr/local/lib/python3.10/dist-packages (from cffi>=1.10.0->rpy2) (2.21)\n",
            "Requirement already satisfied: MarkupSafe>=2.0 in /usr/local/lib/python3.10/dist-packages (from jinja2->rpy2) (2.1.3)\n"
          ]
        }
      ]
    },
    {
      "cell_type": "code",
      "source": [
        "import rpy2.ipython\n",
        "# Activate the R magic\n",
        "%load_ext rpy2.ipython"
      ],
      "metadata": {
        "id": "iXAEd1MQyqBh",
        "colab": {
          "base_uri": "https://localhost:8080/"
        },
        "outputId": "572d0c25-ba23-4266-bd89-1103014c3dc9"
      },
      "execution_count": 72,
      "outputs": [
        {
          "output_type": "stream",
          "name": "stdout",
          "text": [
            "The rpy2.ipython extension is already loaded. To reload it, use:\n",
            "  %reload_ext rpy2.ipython\n"
          ]
        }
      ]
    },
    {
      "cell_type": "code",
      "source": [
        "%%R\n",
        "# install and load the required packages\n",
        "if (!requireNamespace(\"ggplot2\", quietly = TRUE)) {\n",
        "  install.packages(\"ggplot2\")\n",
        "}\n",
        "if (!requireNamespace(\"Hmisc\", quietly = TRUE)) {\n",
        "  install.packages(\"Hmisc\")\n",
        "}\n",
        "if (!requireNamespace(\"corrplot\", quietly = TRUE)) {\n",
        "  install.packages(\"corrplot\")\n",
        "}\n",
        "if (!requireNamespace(\"car\", quietly = TRUE)) {\n",
        "  install.packages(\"car\")\n",
        "}\n",
        "if (!requireNamespace(\"lmtest\", quietly = TRUE)) {\n",
        "  install.packages(\"lmtest\")\n",
        "}\n",
        "if (!requireNamespace(\"readxl\", quietly = TRUE)) {\n",
        "  install.packages(\"readxl\")\n",
        "}\n",
        "library(ggplot2)\n",
        "library(Hmisc)\n",
        "library(corrplot)\n",
        "library(car)\n",
        "library(lmtest)\n",
        "library(readxl)\n"
      ],
      "metadata": {
        "id": "TfhDiYGMS82S"
      },
      "execution_count": 73,
      "outputs": []
    },
    {
      "cell_type": "code",
      "source": [
        "# Import necessary modules\n",
        "import os\n",
        "\n",
        "from pydrive.auth import GoogleAuth\n",
        "from pydrive.drive import GoogleDrive\n",
        "from google.colab import auth\n",
        "from oauth2client.client import GoogleCredentials\n",
        "\n",
        "# Authenticate and create the PyDrive client\n",
        "auth.authenticate_user()\n",
        "gauth = GoogleAuth()\n",
        "gauth.credentials = GoogleCredentials.get_application_default()\n",
        "drive = GoogleDrive(gauth)"
      ],
      "metadata": {
        "id": "XkOYTXOTmlGM"
      },
      "execution_count": 74,
      "outputs": []
    },
    {
      "cell_type": "code",
      "source": [
        "%%R\n",
        "# Function for generating the output path based on the task name\n",
        "generate_output_path <- function(base_path, task_number) {\n",
        "  task_name <- paste(\"task_\", task_number, sep = \"\")\n",
        "  output_path <- file.path(base_path, task_name)\n",
        "  dir.create(output_path, showWarnings = FALSE, recursive = TRUE)\n",
        "  return(output_path)\n",
        "}\n",
        "\n",
        "# Set the base path for all tasks\n",
        "base_path <- \"/content/drive/MyDrive/colab/output_result\""
      ],
      "metadata": {
        "id": "CIw7bkZNnRw2"
      },
      "execution_count": 75,
      "outputs": []
    },
    {
      "cell_type": "code",
      "source": [
        "%%R\n",
        "# read the dataset\n",
        "data <- read.csv(\"/content/drive/MyDrive/colab/dataset/M32082_dataset.csv\")"
      ],
      "metadata": {
        "id": "3MJKClh8JC-T"
      },
      "execution_count": 76,
      "outputs": []
    },
    {
      "cell_type": "code",
      "source": [
        "%%R\n",
        "# checking for null values in the dataset\n",
        "check_null_values <- colSums(is.na(data))\n",
        "print(check_null_values)"
      ],
      "metadata": {
        "colab": {
          "base_uri": "https://localhost:8080/"
        },
        "id": "ntPDPbuoKDc5",
        "outputId": "14711080-53f1-4914-db0f-5717bb84a3d7"
      },
      "execution_count": 77,
      "outputs": [
        {
          "output_type": "stream",
          "name": "stdout",
          "text": [
            "              CustomerID                      Age            TypeofContact \n",
            "                       0                      226                        0 \n",
            "                CityTier               Occupation                   Gender \n",
            "                       0                        0                        0 \n",
            "  NumberOfPersonVisiting        NumberOfFollowups    PreferredPropertyStar \n",
            "                       0                       45                       26 \n",
            "           MaritalStatus                 Passport   PitchSatisfactionScore \n",
            "                       0                        0                        0 \n",
            "                  OwnCar NumberOfChildrenVisiting                   Income \n",
            "                       0                       66                      233 \n",
            "           NumberOfTrips \n",
            "                     140 \n"
          ]
        }
      ]
    },
    {
      "cell_type": "code",
      "source": [
        "%%R\n",
        "# Check for duplicates in the \"CustomerID\" column\n",
        "duplicates <- data$CustomerID[duplicated(data$CustomerID)]\n",
        "\n",
        "# Check if there are any duplicates\n",
        "if (length(duplicates) > 0) {\n",
        "  print(\"Duplicate values found in CustomerID:\")\n",
        "  print(duplicates)\n",
        "} else {\n",
        "  print(\"No duplicate values found in CustomerID.\")\n",
        "}"
      ],
      "metadata": {
        "colab": {
          "base_uri": "https://localhost:8080/"
        },
        "id": "T2CKkh_iKe1B",
        "outputId": "ab312cf1-50f6-4f88-c4f4-112bf1a5f06f"
      },
      "execution_count": 78,
      "outputs": [
        {
          "output_type": "stream",
          "name": "stdout",
          "text": [
            "[1] \"No duplicate values found in CustomerID.\"\n"
          ]
        }
      ]
    },
    {
      "cell_type": "code",
      "source": [
        "%%R\n",
        "# Remove missing values from the data\n",
        "df <- na.omit(data)\n",
        "# print(df)"
      ],
      "metadata": {
        "id": "HPvfNkpHNPSi"
      },
      "execution_count": 79,
      "outputs": []
    },
    {
      "cell_type": "code",
      "source": [
        "# @title Task-1\n",
        "%%R\n",
        "# Define a function for descriptive analysis\n",
        "perform_descriptive_analysis <- function(dataframe, selected_variables, output_folder, table_name) {\n",
        "  # Summary statistics and descriptive analysis for selected variables\n",
        "  summary_data <- dataframe[, selected_variables]\n",
        "\n",
        "  # Central tendencies (mean, median) and dispersion measures (standard deviation, range)\n",
        "  central_dispersion_summary <- data.frame(\n",
        "    Variable = colnames(summary_data),\n",
        "    Mean = sapply(summary_data, mean, na.rm = TRUE),\n",
        "    Median = sapply(summary_data, median, na.rm = TRUE),\n",
        "    StdDev = sapply(summary_data, sd, na.rm = TRUE),\n",
        "    Min = sapply(summary_data, min, na.rm = TRUE),\n",
        "    Max = sapply(summary_data, max, na.rm = TRUE)\n",
        "  )\n",
        "\n",
        "  # Create histograms, box plots, and standard deviation plots for selected variables\n",
        "  plots <- list()\n",
        "\n",
        "  for (var in selected_variables) {\n",
        "    # Create histogram\n",
        "    hist_plot <- ggplot(dataframe, aes_string(x = var)) +\n",
        "      geom_histogram(binwidth = 5, fill = \"lightblue\", color = \"black\") +\n",
        "      labs(title = paste(\"Histogram of\", var))\n",
        "\n",
        "    # Create box plot\n",
        "    box_plot <- ggplot(dataframe, aes_string(y = var)) +\n",
        "      geom_boxplot(fill = \"lightblue\", color = \"black\") +\n",
        "      labs(title = paste(\"Box Plot of\", var))\n",
        "\n",
        "    # Create standard deviation plot with error bars\n",
        "    std_dev_plot <- ggplot(dataframe, aes_string(x = var, y = var)) +\n",
        "      geom_errorbar(stat = \"summary\", fun.data = \"mean_cl_normal\", width = 0.2) +\n",
        "      geom_point(stat = \"summary\", fun.data = \"mean_sdl\", position = position_nudge(x = 0.2)) +\n",
        "      labs(title = paste(\"Standard Deviation of\", var),\n",
        "           x = var,\n",
        "           y = \"Value\")\n",
        "\n",
        "    plots[[var]] <- list(hist_plot, box_plot, std_dev_plot)\n",
        "  }\n",
        "\n",
        "  # Generate and save the plots as separate files in the specified output folder\n",
        "  for (var in selected_variables) {\n",
        "    pdf(file.path(output_folder, paste(var, \"_histogram.pdf\", sep = \"\")), width = 8, height = 6)\n",
        "    print(plots[[var]][[1]])\n",
        "    dev.off()\n",
        "\n",
        "    pdf(file.path(output_folder, paste(var, \"_boxplot.pdf\", sep = \"\")), width = 8, height = 6)\n",
        "    print(plots[[var]][[2]])\n",
        "    dev.off()\n",
        "\n",
        "    pdf(file.path(output_folder, paste(var, \"_std_dev.pdf\", sep = \"\")), width = 8, height = 6)\n",
        "    print(plots[[var]][[3]])\n",
        "    dev.off()\n",
        "  }\n",
        "\n",
        "  # Print the central tendencies and dispersion measures summary\n",
        "  print(central_dispersion_summary)\n",
        "  write.csv(central_dispersion_summary, file.path(output_folder, table_name))\n",
        "}"
      ],
      "metadata": {
        "id": "9dmOpr5-IgAn"
      },
      "execution_count": 85,
      "outputs": []
    },
    {
      "cell_type": "code",
      "source": [
        "%%R\n",
        "# Specify the output folder\n",
        "task_number <- 1\n",
        "da_output_path <- generate_output_path(base_path, task_number)\n",
        "\n",
        "# Define the selected variables for analysis\n",
        "selected_variables <- c(\n",
        "  \"Age\", \"CityTier\", \"NumberOfPersonVisiting\", \"NumberOfFollowups\",\"PreferredPropertyStar\", \"PitchSatisfactionScore\", \"NumberOfChildrenVisiting\", \"OwnCar\", \"Income\", \"NumberOfTrips\"\n",
        "  )\n",
        "table_name = \"central_dispersion_analysis.csv\"\n",
        "perform_descriptive_analysis(df, selected_variables, da_output_path, table_name)"
      ],
      "metadata": {
        "colab": {
          "base_uri": "https://localhost:8080/"
        },
        "id": "8AZmtqMl8Blk",
        "outputId": "36c64658-ddd8-46e2-b942-5a8d0acb8b34"
      },
      "execution_count": 87,
      "outputs": [
        {
          "output_type": "stream",
          "name": "stdout",
          "text": [
            "                                         Variable         Mean Median\n",
            "Age                                           Age 3.712564e+01     36\n",
            "CityTier                                 CityTier 1.671649e+00      1\n",
            "NumberOfPersonVisiting     NumberOfPersonVisiting 2.932275e+00      3\n",
            "NumberOfFollowups               NumberOfFollowups 3.725596e+00      4\n",
            "PreferredPropertyStar       PreferredPropertyStar 3.573564e+00      3\n",
            "PitchSatisfactionScore     PitchSatisfactionScore 3.063288e+00      3\n",
            "NumberOfChildrenVisiting NumberOfChildrenVisiting 1.209014e+00      1\n",
            "OwnCar                                     OwnCar 6.153667e-01      1\n",
            "Income                                     Income 2.305300e+04  22166\n",
            "NumberOfTrips                       NumberOfTrips 3.270434e+00      3\n",
            "                               StdDev  Min   Max\n",
            "Age                         9.1390719   18    61\n",
            "CityTier                    0.9241672    1     3\n",
            "NumberOfPersonVisiting      0.7205009    1     5\n",
            "NumberOfFollowups           1.0071660    1     6\n",
            "PreferredPropertyStar       0.7931804    3     5\n",
            "PitchSatisfactionScore      1.3623777    1     5\n",
            "NumberOfChildrenVisiting    0.8531421    0     3\n",
            "OwnCar                      0.4865653    0     1\n",
            "Income                   4472.3114544 1000 98678\n",
            "NumberOfTrips               1.8514587    1    22\n"
          ]
        }
      ]
    },
    {
      "cell_type": "code",
      "source": [
        "# @title Task-2\n",
        "%%R\n",
        "# Function for correlation analysis with output to a file\n",
        "perform_correlation_analysis <- function(dataframe, variable_of_interest, output_folder) {\n",
        "  # Drop the 'CustomerID' column if it exists\n",
        "  if (\"CustomerID\" %in% colnames(dataframe)) {\n",
        "    dataframe <- dataframe[, !colnames(dataframe) %in% \"CustomerID\"]\n",
        "  }\n",
        "\n",
        "  # Check if the variable of interest is numeric\n",
        "  if (!is.numeric(dataframe[[variable_of_interest]])) {\n",
        "    message(\"The variable of interest is not numeric. Skipping correlation analysis.\")\n",
        "    return(NULL)\n",
        "  }\n",
        "\n",
        "  # Subset data to include only numeric columns\n",
        "  numeric_data <- dataframe[, sapply(dataframe, is.numeric)]\n",
        "\n",
        "  # Calculate the correlation matrix for numeric_data\n",
        "  correlation_matrix <- cor(numeric_data)\n",
        "\n",
        "  # Display the correlation matrix and save it to a file\n",
        "  print(correlation_matrix)\n",
        "  write.csv(correlation_matrix, file.path(output_folder, \"correlation_matrix.csv\"))\n",
        "\n",
        "  # Create a correlation matrix plot and save it to a file\n",
        "  corrplot(correlation_matrix, method = \"color\")\n",
        "  png(file.path(output_folder, \"correlation_matrix_plot.png\"))\n",
        "  # corrplot(correlation_matrix, method = \"color\")\n",
        "  dev.off()\n",
        "\n",
        "  # Extract correlations of the variable of interest with other variables\n",
        "  correlations_with_variable <- correlation_matrix[, variable_of_interest]\n",
        "\n",
        "  # Sort and display correlations in descending order\n",
        "  sorted_correlations <- sort(correlations_with_variable, decreasing = TRUE)\n",
        "  print(sorted_correlations)\n",
        "  write.csv(sorted_correlations, file.path(output_folder, \"sorted_correlations.csv\"))\n",
        "\n",
        "  # Create an empty list to store correlation test results\n",
        "  correlation_test_results <- list()\n",
        "\n",
        "  for (variable in colnames(numeric_data)) {\n",
        "    if (variable != variable_of_interest) {\n",
        "      # Check if the current variable is numeric\n",
        "      if (is.numeric(numeric_data[[variable]])) {\n",
        "        # Hypothesis test for correlation between the variable of interest and the current variable\n",
        "        cor_test_result <- cor.test(dataframe[[variable_of_interest]], numeric_data[[variable]])\n",
        "\n",
        "        # Extract and store relevant information\n",
        "        test_result_data <- data.frame(\n",
        "          Variable = variable,\n",
        "          Correlation = round(cor_test_result$estimate, 4),\n",
        "          P_Value = round(cor_test_result$p.value, 4)\n",
        "          # Correlation = cor_test_result$estimate,\n",
        "          # P_Value = cor_test_result$p.value\n",
        "        )\n",
        "\n",
        "        # Print and save the results\n",
        "        print(test_result_data)\n",
        "        correlation_test_results[[variable]] <- test_result_data\n",
        "        # Save all test results in one CSV file\n",
        "        combined_test_results <- do.call(rbind, correlation_test_results)\n",
        "        sorted_combined_test_results <- combined_test_results[order(combined_test_results$P_Value), ]\n",
        "        write.csv(sorted_combined_test_results, file.path(output_folder, \"combined_correlation_test_results.csv\"))\n",
        "\n",
        "        # Scatterplot of the variable of interest vs. the current variable\n",
        "        plot_title <- paste(variable_of_interest, \"vs.\", variable)  # Create a suitable title\n",
        "        # Create a data frame for the scatterplot\n",
        "        scatter_data <- data.frame(\n",
        "          VariableOfInterest = dataframe[[variable_of_interest]],\n",
        "          CurrentVariable = numeric_data[[variable]]\n",
        "        )\n",
        "\n",
        "        # Create the scatterplot with linear regression line\n",
        "        scatter_plot <- ggplot(scatter_data, aes(x = VariableOfInterest, y = CurrentVariable)) +\n",
        "          geom_point() +\n",
        "          geom_smooth(method = \"lm\", se = FALSE, color = \"red\") +\n",
        "          labs(\n",
        "            title = plot_title,\n",
        "            x = variable_of_interest,\n",
        "            y = variable\n",
        "          )\n",
        "        # Save the plot as an image\n",
        "        png(file.path(output_folder, paste0(\"scatterplot_\", variable_of_interest, \"_vs_\", variable, \".png\")))\n",
        "        print(scatter_plot)\n",
        "        dev.off()\n",
        "      } else {\n",
        "        # The current variable is not numeric\n",
        "        message(paste(variable, \"is not numeric. Skipping correlation test and scatterplot.\"))\n",
        "      }\n",
        "    }\n",
        "  }\n",
        "}\n"
      ],
      "metadata": {
        "id": "vLp4qbwxR162"
      },
      "execution_count": 88,
      "outputs": []
    },
    {
      "cell_type": "markdown",
      "source": [],
      "metadata": {
        "id": "JkvbRWu4bt1C"
      }
    },
    {
      "cell_type": "code",
      "source": [
        "%%R\n",
        "# Specify the output folder\n",
        "task_number <- 2\n",
        "ca_output_path <- generate_output_path(base_path, task_number)\n",
        "\n",
        "variable_of_interest <- \"NumberOfTrips\"\n",
        "perform_correlation_analysis(df, variable_of_interest, ca_output_path)"
      ],
      "metadata": {
        "colab": {
          "base_uri": "https://localhost:8080/",
          "height": 1000
        },
        "id": "MsvPGuB48MT6",
        "outputId": "9c807561-d928-42bd-dd4c-49898d4078dc"
      },
      "execution_count": 90,
      "outputs": [
        {
          "output_type": "stream",
          "name": "stdout",
          "text": [
            "                                  Age      CityTier NumberOfPersonVisiting\n",
            "Age                       1.000000000 -0.0018072906           -0.022014282\n",
            "CityTier                 -0.001807291  1.0000000000           -0.002884295\n",
            "NumberOfPersonVisiting   -0.022014282 -0.0028842950            1.000000000\n",
            "NumberOfFollowups        -0.026326037  0.0183670273            0.328150808\n",
            "PreferredPropertyStar    -0.027731324 -0.0196199044            0.040192933\n",
            "Passport                  0.026219212  0.0068491602            0.005451611\n",
            "PitchSatisfactionScore    0.015420592 -0.0302439892           -0.019667391\n",
            "OwnCar                    0.035717205  0.0120546384            0.004968258\n",
            "NumberOfChildrenVisiting -0.028414868 -0.0003334903            0.600654478\n",
            "Income                    0.418171763  0.0808007884            0.151947029\n",
            "NumberOfTrips             0.176228722 -0.0279547076            0.187965560\n",
            "                         NumberOfFollowups PreferredPropertyStar     Passport\n",
            "Age                           -0.026326037          -0.027731324  0.026219212\n",
            "CityTier                       0.018367027          -0.019619904  0.006849160\n",
            "NumberOfPersonVisiting         0.328150808           0.040192933  0.005451611\n",
            "NumberOfFollowups              1.000000000          -0.015223255  0.002095030\n",
            "PreferredPropertyStar         -0.015223255           1.000000000  0.003512306\n",
            "Passport                       0.002095030           0.003512306  1.000000000\n",
            "PitchSatisfactionScore         0.004317848          -0.016738901  0.004862612\n",
            "OwnCar                         0.005269912           0.017346439 -0.022556795\n",
            "NumberOfChildrenVisiting       0.284789872           0.040960702  0.015959670\n",
            "Income                         0.147145778           0.010612925  0.002778974\n",
            "NumberOfTrips                  0.136136164           0.012536248  0.005779107\n",
            "                         PitchSatisfactionScore       OwnCar\n",
            "Age                                 0.015420592  0.035717205\n",
            "CityTier                           -0.030243989  0.012054638\n",
            "NumberOfPersonVisiting             -0.019667391  0.004968258\n",
            "NumberOfFollowups                   0.004317848  0.005269912\n",
            "PreferredPropertyStar              -0.016738901  0.017346439\n",
            "Passport                            0.004862612 -0.022556795\n",
            "PitchSatisfactionScore              1.000000000  0.070559817\n",
            "OwnCar                              0.070559817  1.000000000\n",
            "NumberOfChildrenVisiting           -0.004148653  0.019834101\n",
            "Income                              0.019708427  0.066887910\n",
            "NumberOfTrips                      -0.005490450 -0.015971367\n",
            "                         NumberOfChildrenVisiting      Income NumberOfTrips\n",
            "Age                                 -0.0284148682 0.418171763   0.176228722\n",
            "CityTier                            -0.0003334903 0.080800788  -0.027954708\n",
            "NumberOfPersonVisiting               0.6006544782 0.151947029   0.187965560\n",
            "NumberOfFollowups                    0.2847898715 0.147145778   0.136136164\n",
            "PreferredPropertyStar                0.0409607015 0.010612925   0.012536248\n",
            "Passport                             0.0159596703 0.002778974   0.005779107\n",
            "PitchSatisfactionScore              -0.0041486526 0.019708427  -0.005490450\n",
            "OwnCar                               0.0198341005 0.066887910  -0.015971367\n",
            "NumberOfChildrenVisiting             1.0000000000 0.156880277   0.166954603\n",
            "Income                               0.1568802771 1.000000000   0.125814099\n",
            "NumberOfTrips                        0.1669546032 0.125814099   1.000000000\n",
            "           NumberOfTrips   NumberOfPersonVisiting                      Age \n",
            "             1.000000000              0.187965560              0.176228722 \n",
            "NumberOfChildrenVisiting        NumberOfFollowups                   Income \n",
            "             0.166954603              0.136136164              0.125814099 \n",
            "   PreferredPropertyStar                 Passport   PitchSatisfactionScore \n",
            "             0.012536248              0.005779107             -0.005490450 \n",
            "                  OwnCar                 CityTier \n",
            "            -0.015971367             -0.027954708 \n",
            "    Variable Correlation P_Value\n",
            "cor      Age      0.1762       0\n",
            "`geom_smooth()` using formula = 'y ~ x'\n",
            "    Variable Correlation P_Value\n",
            "cor CityTier      -0.028  0.0674\n",
            "`geom_smooth()` using formula = 'y ~ x'\n",
            "                  Variable Correlation P_Value\n",
            "cor NumberOfPersonVisiting       0.188       0\n",
            "`geom_smooth()` using formula = 'y ~ x'\n",
            "             Variable Correlation P_Value\n",
            "cor NumberOfFollowups      0.1361       0\n",
            "`geom_smooth()` using formula = 'y ~ x'\n",
            "                 Variable Correlation P_Value\n",
            "cor PreferredPropertyStar      0.0125  0.4121\n",
            "`geom_smooth()` using formula = 'y ~ x'\n",
            "    Variable Correlation P_Value\n",
            "cor Passport      0.0058  0.7054\n",
            "`geom_smooth()` using formula = 'y ~ x'\n",
            "                  Variable Correlation P_Value\n",
            "cor PitchSatisfactionScore     -0.0055  0.7195\n",
            "`geom_smooth()` using formula = 'y ~ x'\n",
            "    Variable Correlation P_Value\n",
            "cor   OwnCar      -0.016  0.2961\n",
            "`geom_smooth()` using formula = 'y ~ x'\n",
            "                    Variable Correlation P_Value\n",
            "cor NumberOfChildrenVisiting       0.167       0\n",
            "`geom_smooth()` using formula = 'y ~ x'\n",
            "    Variable Correlation P_Value\n",
            "cor   Income      0.1258       0\n",
            "`geom_smooth()` using formula = 'y ~ x'\n"
          ]
        },
        {
          "output_type": "display_data",
          "data": {
            "image/png": "[encoded data removed]"
          },
          "metadata": {}
        }
      ]
    },
    {
      "cell_type": "code",
      "source": [
        "# @title Task-3\n",
        "%%R\n",
        "# Define a function for model development and validation with output to a file\n",
        "develop_and_validate_model <- function(dataframe, output_folder) {\n",
        "  # Load the dataset\n",
        "  data <- dataframe[, -1]\n",
        "\n",
        "  # Check for missing values\n",
        "  summary_data <- summary(data)\n",
        "  write.csv(summary_data, file.path(output_folder, \"summary_data.csv\"))\n",
        "\n",
        "  # Encode categorical variables\n",
        "  data$TypeofContact <- as.factor(data$TypeofContact)\n",
        "  data$Occupation <- as.factor(data$Occupation)\n",
        "  data$Gender <- as.factor(data$Gender)\n",
        "  data$MaritalStatus <- as.factor(data$MaritalStatus)\n",
        "\n",
        "  # Create the linear regression model\n",
        "   model <- lm(NumberOfTrips ~ CityTier + NumberOfPersonVisiting + NumberOfFollowups,\n",
        "              data = data)\n",
        "\n",
        "  # Save the model summary to a text file\n",
        "  model_summary <- capture.output(summary(model))\n",
        "  writeLines(model_summary, file.path(output_folder, \"linear_regression_model.txt\"))\n",
        "\n",
        "  # Perform ANOVA (F-test)\n",
        "  anova_table <- anova(model)\n",
        "  write.table(anova_table, file.path(output_folder, \"anova_table.txt\"))\n",
        "\n",
        "  # Calculate VIF (Variance Inflation Factor) to check for multicollinearity\n",
        "  vif_values <- vif(model)\n",
        "  write.table(vif_values, file.path(output_folder, \"vif_values.txt\"))\n",
        "\n",
        "  # Residual vs. Fitted Plot\n",
        "  png(file.path(output_folder, \"residual_vs_fitted.png\"))\n",
        "  plot(model, which = 1)\n",
        "  dev.off()\n",
        "\n",
        "  # Histogram of Residuals\n",
        "  png(file.path(output_folder, \"residual_histogram.png\"))\n",
        "  hist(residuals(model), main = \"Residuals Histogram\")\n",
        "  dev.off()\n",
        "\n",
        "  # Normality Test (Shapiro-Wilk)\n",
        "  normality_test <- shapiro.test(residuals(model))\n",
        "  # Extract the p-value from the normality test result\n",
        "  p_value <- normality_test$p.value\n",
        "\n",
        "  # Create a data frame to store the results\n",
        "  normality_results <- data.frame(\n",
        "    TestStatistic = normality_test$statistic,\n",
        "    PValue = p_value,\n",
        "    Method = \"Shapiro-Wilk Normality Test\"\n",
        "  )\n",
        "  # Save the results to a text file\n",
        "  write.table(normality_results, file.path(output_folder, \"normality_test.txt\"))\n",
        "\n",
        "  # Cook's distance\n",
        "  cooks_distance <- cooks.distance(model)\n",
        "  write.table(cooks_distance, file.path(output_folder, \"cooks_distance.txt\"))\n",
        "\n",
        "  # T-test for two hypothetical groups (Group A and Group B)\n",
        "  # Create groupA and groupB\n",
        "  groupA <- data$NumberOfTrips\n",
        "  groupB <- data$CityTier\n",
        "\n",
        "  # Perform an independent two-sample t-test\n",
        "  t_test_result <- t.test(groupA, groupB)\n",
        "\n",
        "  # Extract and save the relevant information\n",
        "  result_summary <- data.frame(\n",
        "    Statistic = t_test_result$statistic,\n",
        "    DegreesOfFreedom = t_test_result$parameter,\n",
        "    PValue = t_test_result$p.value,\n",
        "    Method = t_test_result$method\n",
        "  )\n",
        "\n",
        "  # Write the summary to a file\n",
        "  write.table(result_summary, file.path(output_folder, \"t_test_result.txt\"))\n",
        "\n",
        "  # Leverage and influence measures\n",
        "  leverage_plot <- influenceIndexPlot(model)\n",
        "  pdf(file.path(output_folder, \"leverage_plot.pdf\"))\n",
        "  png(file.path(output_folder, \"leverage_plot.png\"))\n",
        "  # print(leverage_plot)\n",
        "  dev.off()\n",
        "\n",
        "}\n"
      ],
      "metadata": {
        "id": "YFZvrAArVEXk"
      },
      "execution_count": 91,
      "outputs": []
    },
    {
      "cell_type": "code",
      "source": [
        "%%R\n",
        "# Specify the output folder\n",
        "task_number <- 3\n",
        "mdl_output_path <- generate_output_path(base_path, task_number)\n",
        "\n",
        "develop_and_validate_model(df, mdl_output_path)"
      ],
      "metadata": {
        "colab": {
          "base_uri": "https://localhost:8080/",
          "height": 532
        },
        "id": "oaYMgadS8VXs",
        "outputId": "31cb9c0d-0359-442d-e5f6-53c31ee5f508"
      },
      "execution_count": 92,
      "outputs": [
        {
          "output_type": "stream",
          "name": "stdout",
          "text": [
            "png \n",
            "  2 \n"
          ]
        },
        {
          "output_type": "display_data",
          "data": {
            "image/png": "[encoded data removed]"
          },
          "metadata": {}
        }
      ]
    },
    {
      "cell_type": "code",
      "source": [
        "# @title Task-4\n",
        "%%R\n",
        "# Define a function for interpreting and summarizing the linear regression model with output to a file\n",
        "interpret_regression_model <- function(dataframe, predictor_variables, output_folder) {\n",
        "  # Develop the linear regression model\n",
        "  model <- lm(NumberOfTrips ~ ., data = dataframe[, c(\"NumberOfTrips\", predictor_variables)])\n",
        "\n",
        "  # Obtain model summary\n",
        "  model_summary <- summary(model)\n",
        "\n",
        "  # Save the model summary to a text file\n",
        "  model_summary_file <- file.path(output_folder, \"model_summary.txt\")\n",
        "\n",
        "  # Check if the file exists and remove it if it does\n",
        "  if (file.exists(model_summary_file)) {\n",
        "    file.remove(model_summary_file)\n",
        "  }\n",
        "\n",
        "  capture.output(print(model_summary), file = model_summary_file)\n",
        "\n",
        "  # Return the model summary\n",
        "  return(model_summary)\n",
        "}\n"
      ],
      "metadata": {
        "id": "yzhTUQW-mquj"
      },
      "execution_count": 93,
      "outputs": []
    },
    {
      "cell_type": "code",
      "source": [
        "%%R\n",
        "task_number <- 4\n",
        "lrm_output_path <- generate_output_path(base_path, task_number)\n",
        "\n",
        "predictor_variables <- c(\"CityTier\", \"Income\")\n",
        "model_summary <- interpret_regression_model(df, predictor_variables, lrm_output_path)\n",
        "print(model_summary)"
      ],
      "metadata": {
        "colab": {
          "base_uri": "https://localhost:8080/"
        },
        "id": "gxPKNbTk8cCK",
        "outputId": "53383579-1032-443a-dc35-4773a7a36137"
      },
      "execution_count": 94,
      "outputs": [
        {
          "output_type": "stream",
          "name": "stdout",
          "text": [
            "\n",
            "Call:\n",
            "lm(formula = NumberOfTrips ~ ., data = dataframe[, c(\"NumberOfTrips\", \n",
            "    predictor_variables)])\n",
            "\n",
            "Residuals:\n",
            "    Min      1Q  Median      3Q     Max \n",
            "-5.3580 -1.2304 -0.3191  0.9421 18.5495 \n",
            "\n",
            "Coefficients:\n",
            "              Estimate Std. Error t value Pr(>|t|)    \n",
            "(Intercept)  2.169e+00  1.524e-01  14.225   <2e-16 ***\n",
            "CityTier    -7.687e-02  3.046e-02  -2.524   0.0116 *  \n",
            "Income       5.337e-05  6.294e-06   8.479   <2e-16 ***\n",
            "---\n",
            "Signif. codes:  0 ‘***’ 0.001 ‘**’ 0.01 ‘*’ 0.05 ‘.’ 0.1 ‘ ’ 1\n",
            "\n",
            "Residual standard error: 1.836 on 4279 degrees of freedom\n",
            "Multiple R-squared:  0.01729,\tAdjusted R-squared:  0.01683 \n",
            "F-statistic: 37.65 on 2 and 4279 DF,  p-value: < 2.2e-16\n",
            "\n"
          ]
        }
      ]
    },
    {
      "cell_type": "code",
      "source": [
        "# @title Task-5\n",
        "%%R\n",
        "# Define a function for making predictions using a linear regression model\n",
        "make_predictions <- function(model, dataframe, test_dataset_path, output_csv_file, sheet_number) {\n",
        "  # Load the test data from the specified sheet number\n",
        "  data <- dataframe[, -1]\n",
        "  test_data <- read_excel(test_dataset_path, sheet = sheet_number)\n",
        "\n",
        "  # Encode categorical variables (if needed)\n",
        "  test_data$TypeofContact <- as.factor(test_data$TypeofContact)\n",
        "  test_data$Occupation <- as.factor(test_data$Occupation)\n",
        "  test_data$Gender <- as.factor(test_data$Gender)\n",
        "  test_data$MaritalStatus <- as.factor(test_data$MaritalStatus)\n",
        "\n",
        "  # Make predictions\n",
        "  predictions <- predict(model, newdata = test_data)\n",
        "\n",
        "  # Create a data frame with predictions\n",
        "  prediction_df <- data.frame(Case = test_data$Case, PredictedNumberOfTrips = predictions)\n",
        "\n",
        "  # Check if the output file already exists and remove it if it does\n",
        "  if (file.exists(output_csv_file)) {\n",
        "    file.remove(output_csv_file)\n",
        "  }\n",
        "\n",
        "  # Save predictions to a CSV file\n",
        "  write.csv(prediction_df, file = output_csv_file, row.names = FALSE)\n",
        "\n",
        "}\n"
      ],
      "metadata": {
        "id": "R6Ghy5Jgp1zr"
      },
      "execution_count": 96,
      "outputs": []
    },
    {
      "cell_type": "code",
      "source": [
        "%%R\n",
        "task_number <- 5\n",
        "sheet_number <- 2\n",
        "prediction_output_path <- generate_output_path(base_path, task_number)\n",
        "output_csv_file <- file.path(prediction_output_path, \"predictions.csv\")\n",
        "test_scenario_path <- \"/content/drive/MyDrive/colab/dataset/M32082_dataset.xlsx\"\n",
        "\n",
        "# Call the predictions function\n",
        "model <- lm(NumberOfTrips ~ CityTier + NumberOfPersonVisiting + NumberOfFollowups, data = data)\n",
        "make_predictions(model, df, test_scenario_path, output_csv_file, sheet_number)"
      ],
      "metadata": {
        "id": "nyXV2oZZ1dUh"
      },
      "execution_count": 98,
      "outputs": []
    },
    {
      "cell_type": "code",
      "source": [],
      "metadata": {
        "id": "EgSWHqGb8mHu"
      },
      "execution_count": null,
      "outputs": []
    }
  ]
}